{
 "cells": [
  {
   "cell_type": "markdown",
   "metadata": {},
   "source": [
    "# cube.link - Data Integration\n",
    "\n",
    "This notebook demonstrates the data integration process starting from a \"messy\" offical CSV to a RDF cube according to cube.link schema."
   ]
  },
  {
   "cell_type": "markdown",
   "metadata": {
    "vscode": {
     "languageId": "plaintext"
    }
   },
   "source": [
    "## Read Raw Data"
   ]
  },
  {
   "cell_type": "code",
   "execution_count": 1,
   "metadata": {},
   "outputs": [
    {
     "data": {
      "text/html": [
       "<div>\n",
       "<style scoped>\n",
       "    .dataframe tbody tr th:only-of-type {\n",
       "        vertical-align: middle;\n",
       "    }\n",
       "\n",
       "    .dataframe tbody tr th {\n",
       "        vertical-align: top;\n",
       "    }\n",
       "\n",
       "    .dataframe thead th {\n",
       "        text-align: right;\n",
       "    }\n",
       "</style>\n",
       "<table border=\"1\" class=\"dataframe\">\n",
       "  <thead>\n",
       "    <tr style=\"text-align: right;\">\n",
       "      <th></th>\n",
       "      <th>GEO_NR</th>\n",
       "      <th>GEO_NAME</th>\n",
       "      <th>CLASS_HAB</th>\n",
       "      <th>GEOM_PERIOD</th>\n",
       "      <th>VARIABLE</th>\n",
       "      <th>SOURCE</th>\n",
       "      <th>VALUE_PERIOD</th>\n",
       "      <th>UNIT_VALUE</th>\n",
       "      <th>VALUE</th>\n",
       "      <th>OBS_CONFIDENCE</th>\n",
       "      <th>STATUS</th>\n",
       "    </tr>\n",
       "  </thead>\n",
       "  <tbody>\n",
       "    <tr>\n",
       "      <th>0</th>\n",
       "      <td>CH</td>\n",
       "      <td>Schweiz / Suisse</td>\n",
       "      <td>Total</td>\n",
       "      <td>2023-01-01</td>\n",
       "      <td>tran_t</td>\n",
       "      <td>MFZ</td>\n",
       "      <td>2022</td>\n",
       "      <td>Num</td>\n",
       "      <td>6368579.0</td>\n",
       "      <td>NaN</td>\n",
       "      <td>A</td>\n",
       "    </tr>\n",
       "    <tr>\n",
       "      <th>1</th>\n",
       "      <td>CH</td>\n",
       "      <td>Schweiz / Suisse</td>\n",
       "      <td>Total</td>\n",
       "      <td>2023-01-01</td>\n",
       "      <td>voit_tour</td>\n",
       "      <td>MFZ</td>\n",
       "      <td>2022</td>\n",
       "      <td>Num</td>\n",
       "      <td>4721280.0</td>\n",
       "      <td>NaN</td>\n",
       "      <td>A</td>\n",
       "    </tr>\n",
       "    <tr>\n",
       "      <th>2</th>\n",
       "      <td>CH</td>\n",
       "      <td>Schweiz / Suisse</td>\n",
       "      <td>Total</td>\n",
       "      <td>2023-01-01</td>\n",
       "      <td>voit_tour_e</td>\n",
       "      <td>MFZ</td>\n",
       "      <td>2022</td>\n",
       "      <td>Num</td>\n",
       "      <td>110751.0</td>\n",
       "      <td>NaN</td>\n",
       "      <td>A</td>\n",
       "    </tr>\n",
       "    <tr>\n",
       "      <th>3</th>\n",
       "      <td>CH</td>\n",
       "      <td>Schweiz / Suisse</td>\n",
       "      <td>Total</td>\n",
       "      <td>2023-01-01</td>\n",
       "      <td>voit_livr</td>\n",
       "      <td>MFZ</td>\n",
       "      <td>2022</td>\n",
       "      <td>Num</td>\n",
       "      <td>421014.0</td>\n",
       "      <td>NaN</td>\n",
       "      <td>A</td>\n",
       "    </tr>\n",
       "    <tr>\n",
       "      <th>4</th>\n",
       "      <td>CH</td>\n",
       "      <td>Schweiz / Suisse</td>\n",
       "      <td>Total</td>\n",
       "      <td>2023-01-01</td>\n",
       "      <td>tran_lou</td>\n",
       "      <td>MFZ</td>\n",
       "      <td>2022</td>\n",
       "      <td>Num</td>\n",
       "      <td>54700.0</td>\n",
       "      <td>NaN</td>\n",
       "      <td>A</td>\n",
       "    </tr>\n",
       "  </tbody>\n",
       "</table>\n",
       "</div>"
      ],
      "text/plain": [
       "  GEO_NR          GEO_NAME CLASS_HAB GEOM_PERIOD     VARIABLE SOURCE  \\\n",
       "0     CH  Schweiz / Suisse     Total  2023-01-01       tran_t    MFZ   \n",
       "1     CH  Schweiz / Suisse     Total  2023-01-01    voit_tour    MFZ   \n",
       "2     CH  Schweiz / Suisse     Total  2023-01-01  voit_tour_e    MFZ   \n",
       "3     CH  Schweiz / Suisse     Total  2023-01-01    voit_livr    MFZ   \n",
       "4     CH  Schweiz / Suisse     Total  2023-01-01     tran_lou    MFZ   \n",
       "\n",
       "  VALUE_PERIOD UNIT_VALUE      VALUE  OBS_CONFIDENCE STATUS  \n",
       "0         2022        Num  6368579.0             NaN      A  \n",
       "1         2022        Num  4721280.0             NaN      A  \n",
       "2         2022        Num   110751.0             NaN      A  \n",
       "3         2022        Num   421014.0             NaN      A  \n",
       "4         2022        Num    54700.0             NaN      A  "
      ]
     },
     "execution_count": 1,
     "metadata": {},
     "output_type": "execute_result"
    }
   ],
   "source": [
    "import pandas as pd\n",
    "\n",
    "df = pd.read_csv('https://dam-api.bfs.admin.ch/hub/api/dam/assets/31646012/master')\n",
    "\n",
    "df.head()"
   ]
  },
  {
   "cell_type": "markdown",
   "metadata": {},
   "source": [
    "## Get Overview of the Data"
   ]
  },
  {
   "cell_type": "code",
   "execution_count": 2,
   "metadata": {},
   "outputs": [
    {
     "name": "stdout",
     "output_type": "stream",
     "text": [
      "<class 'pandas.core.frame.DataFrame'>\n",
      "RangeIndex: 2223 entries, 0 to 2222\n",
      "Data columns (total 11 columns):\n",
      " #   Column          Non-Null Count  Dtype  \n",
      "---  ------          --------------  -----  \n",
      " 0   GEO_NR          2223 non-null   object \n",
      " 1   GEO_NAME        2223 non-null   object \n",
      " 2   CLASS_HAB       2223 non-null   object \n",
      " 3   GEOM_PERIOD     2223 non-null   object \n",
      " 4   VARIABLE        2223 non-null   object \n",
      " 5   SOURCE          2223 non-null   object \n",
      " 6   VALUE_PERIOD    2223 non-null   object \n",
      " 7   UNIT_VALUE      2223 non-null   object \n",
      " 8   VALUE           2223 non-null   float64\n",
      " 9   OBS_CONFIDENCE  513 non-null    float64\n",
      " 10  STATUS          2223 non-null   object \n",
      "dtypes: float64(2), object(9)\n",
      "memory usage: 191.2+ KB\n"
     ]
    }
   ],
   "source": [
    "df.info()"
   ]
  },
  {
   "cell_type": "markdown",
   "metadata": {},
   "source": [
    "What are the numbers for the unique values for each column? "
   ]
  },
  {
   "cell_type": "code",
   "execution_count": 4,
   "metadata": {},
   "outputs": [
    {
     "data": {
      "text/plain": [
       "{'GEO_NR': 171,\n",
       " 'GEO_NAME': 171,\n",
       " 'CLASS_HAB': 7,\n",
       " 'GEOM_PERIOD': 2,\n",
       " 'VARIABLE': 13,\n",
       " 'SOURCE': 4,\n",
       " 'VALUE_PERIOD': 2,\n",
       " 'UNIT_VALUE': 2,\n",
       " 'VALUE': 1659,\n",
       " 'OBS_CONFIDENCE': 158,\n",
       " 'STATUS': 1}"
      ]
     },
     "metadata": {},
     "output_type": "display_data"
    }
   ],
   "source": [
    "overview = {col: df[col].nunique() for col in df.columns}\n",
    "display(overview)"
   ]
  }
 ],
 "metadata": {
  "kernelspec": {
   "display_name": "py-cube-mobi",
   "language": "python",
   "name": "python3"
  },
  "language_info": {
   "codemirror_mode": {
    "name": "ipython",
    "version": 3
   },
   "file_extension": ".py",
   "mimetype": "text/x-python",
   "name": "python",
   "nbconvert_exporter": "python",
   "pygments_lexer": "ipython3",
   "version": "3.12.6"
  }
 },
 "nbformat": 4,
 "nbformat_minor": 2
}
