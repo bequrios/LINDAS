{
 "cells": [
  {
   "cell_type": "markdown",
   "metadata": {},
   "source": [
    "# Mockup Example\n",
    "\n",
    "Example based on the mockup example of: https://github.com/Kronmar-Bafu/pylindas/tree/main/example/mock"
   ]
  },
  {
   "cell_type": "code",
   "execution_count": 1,
   "metadata": {},
   "outputs": [
    {
     "data": {
      "text/html": [
       "<div>\n",
       "<style scoped>\n",
       "    .dataframe tbody tr th:only-of-type {\n",
       "        vertical-align: middle;\n",
       "    }\n",
       "\n",
       "    .dataframe tbody tr th {\n",
       "        vertical-align: top;\n",
       "    }\n",
       "\n",
       "    .dataframe thead th {\n",
       "        text-align: right;\n",
       "    }\n",
       "</style>\n",
       "<table border=\"1\" class=\"dataframe\">\n",
       "  <thead>\n",
       "    <tr style=\"text-align: right;\">\n",
       "      <th></th>\n",
       "      <th>Jahr</th>\n",
       "      <th>Station</th>\n",
       "      <th>Wert</th>\n",
       "      <th>Standardfehler</th>\n",
       "      <th>Status</th>\n",
       "    </tr>\n",
       "  </thead>\n",
       "  <tbody>\n",
       "    <tr>\n",
       "      <th>0</th>\n",
       "      <td>2000</td>\n",
       "      <td>Bern</td>\n",
       "      <td>23.000000</td>\n",
       "      <td>5.000000</td>\n",
       "      <td>definitiv</td>\n",
       "    </tr>\n",
       "    <tr>\n",
       "      <th>1</th>\n",
       "      <td>2000</td>\n",
       "      <td>Zürich</td>\n",
       "      <td>23.555744</td>\n",
       "      <td>7.517864</td>\n",
       "      <td>definitiv</td>\n",
       "    </tr>\n",
       "    <tr>\n",
       "      <th>2</th>\n",
       "      <td>2001</td>\n",
       "      <td>Bern</td>\n",
       "      <td>21.536091</td>\n",
       "      <td>6.466525</td>\n",
       "      <td>definitiv</td>\n",
       "    </tr>\n",
       "    <tr>\n",
       "      <th>3</th>\n",
       "      <td>2001</td>\n",
       "      <td>Zürich</td>\n",
       "      <td>21.659924</td>\n",
       "      <td>6.030296</td>\n",
       "      <td>definitiv</td>\n",
       "    </tr>\n",
       "    <tr>\n",
       "      <th>4</th>\n",
       "      <td>2002</td>\n",
       "      <td>Bern</td>\n",
       "      <td>22.575145</td>\n",
       "      <td>1.493504</td>\n",
       "      <td>definitiv</td>\n",
       "    </tr>\n",
       "  </tbody>\n",
       "</table>\n",
       "</div>"
      ],
      "text/plain": [
       "   Jahr Station       Wert  Standardfehler     Status\n",
       "0  2000    Bern  23.000000        5.000000  definitiv\n",
       "1  2000  Zürich  23.555744        7.517864  definitiv\n",
       "2  2001    Bern  21.536091        6.466525  definitiv\n",
       "3  2001  Zürich  21.659924        6.030296  definitiv\n",
       "4  2002    Bern  22.575145        1.493504  definitiv"
      ]
     },
     "execution_count": 1,
     "metadata": {},
     "output_type": "execute_result"
    }
   ],
   "source": [
    "import pandas as pd\n",
    "import yaml\n",
    "import pylindas\n",
    "\n",
    "from pylindas.pycube import Cube\n",
    "\n",
    "df = pd.read_csv('data.csv')\n",
    "\n",
    "df.head()"
   ]
  },
  {
   "cell_type": "code",
   "execution_count": 3,
   "metadata": {},
   "outputs": [],
   "source": [
    "with open('description.yml', encoding=\"utf-8\") as f:\n",
    "    cube_yaml = yaml.safe_load(f)"
   ]
  },
  {
   "cell_type": "code",
   "execution_count": 4,
   "metadata": {},
   "outputs": [],
   "source": [
    "cube = Cube(df, cube_yaml, environment=\"TEST\", local=True)\n",
    "cube.prepare_data()\n",
    "cube.write_cube()\n",
    "cube.write_observations()\n",
    "cube.write_shape()\n",
    "cube.serialize(\"triples.ttl\")"
   ]
  }
 ],
 "metadata": {
  "kernelspec": {
   "display_name": "py-cube-mobi",
   "language": "python",
   "name": "python3"
  },
  "language_info": {
   "codemirror_mode": {
    "name": "ipython",
    "version": 3
   },
   "file_extension": ".py",
   "mimetype": "text/x-python",
   "name": "python",
   "nbconvert_exporter": "python",
   "pygments_lexer": "ipython3",
   "version": "3.12.4"
  }
 },
 "nbformat": 4,
 "nbformat_minor": 2
}
