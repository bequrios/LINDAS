{
 "cells": [
  {
   "cell_type": "markdown",
   "metadata": {},
   "source": [
    "# Example with \"Pseudo\" Data\n",
    "\n",
    "This example tries to go a step further than the mockup example by using pseudo data. The goal is to create a more realistic example that can be used for testing and development purposes. The data is generated to mimic real-world scenarios, providing a more comprehensive testing environment."
   ]
  },
  {
   "cell_type": "code",
   "execution_count": 1,
   "metadata": {},
   "outputs": [],
   "source": [
    "# enable autoreload for Jupyter notebooks (ideal for using development version of pylindas)\n",
    "\n",
    "%load_ext autoreload\n",
    "%autoreload 2"
   ]
  },
  {
   "cell_type": "code",
   "execution_count": 2,
   "metadata": {},
   "outputs": [
    {
     "data": {
      "text/html": [
       "<div>\n",
       "<style scoped>\n",
       "    .dataframe tbody tr th:only-of-type {\n",
       "        vertical-align: middle;\n",
       "    }\n",
       "\n",
       "    .dataframe tbody tr th {\n",
       "        vertical-align: top;\n",
       "    }\n",
       "\n",
       "    .dataframe thead th {\n",
       "        text-align: right;\n",
       "    }\n",
       "</style>\n",
       "<table border=\"1\" class=\"dataframe\">\n",
       "  <thead>\n",
       "    <tr style=\"text-align: right;\">\n",
       "      <th></th>\n",
       "      <th>Gemeinde</th>\n",
       "      <th>Plattform</th>\n",
       "      <th>Jahr</th>\n",
       "      <th>Nutzer</th>\n",
       "    </tr>\n",
       "  </thead>\n",
       "  <tbody>\n",
       "    <tr>\n",
       "      <th>0</th>\n",
       "      <td>Bern</td>\n",
       "      <td>X</td>\n",
       "      <td>2021</td>\n",
       "      <td>1235</td>\n",
       "    </tr>\n",
       "    <tr>\n",
       "      <th>1</th>\n",
       "      <td>Bern</td>\n",
       "      <td>X</td>\n",
       "      <td>2022</td>\n",
       "      <td>2312</td>\n",
       "    </tr>\n",
       "    <tr>\n",
       "      <th>2</th>\n",
       "      <td>Bern</td>\n",
       "      <td>X</td>\n",
       "      <td>2023</td>\n",
       "      <td>6345</td>\n",
       "    </tr>\n",
       "    <tr>\n",
       "      <th>3</th>\n",
       "      <td>Bern</td>\n",
       "      <td>Insta</td>\n",
       "      <td>2021</td>\n",
       "      <td>232</td>\n",
       "    </tr>\n",
       "    <tr>\n",
       "      <th>4</th>\n",
       "      <td>Bern</td>\n",
       "      <td>Insta</td>\n",
       "      <td>2022</td>\n",
       "      <td>423</td>\n",
       "    </tr>\n",
       "  </tbody>\n",
       "</table>\n",
       "</div>"
      ],
      "text/plain": [
       "  Gemeinde Plattform  Jahr  Nutzer\n",
       "0     Bern         X  2021    1235\n",
       "1     Bern         X  2022    2312\n",
       "2     Bern         X  2023    6345\n",
       "3     Bern     Insta  2021     232\n",
       "4     Bern     Insta  2022     423"
      ]
     },
     "execution_count": 2,
     "metadata": {},
     "output_type": "execute_result"
    }
   ],
   "source": [
    "import pandas as pd\n",
    "import yaml\n",
    "from pylindas.pycube import Cube\n",
    "\n",
    "df = pd.read_csv('data.csv', sep=';')\n",
    "\n",
    "df.head()"
   ]
  },
  {
   "cell_type": "code",
   "execution_count": 15,
   "metadata": {},
   "outputs": [
    {
     "data": {
      "text/plain": [
       "<pylindas.pycube.cube.Cube at 0x24bd7527aa0>"
      ]
     },
     "execution_count": 15,
     "metadata": {},
     "output_type": "execute_result"
    }
   ],
   "source": [
    "with open('description.yml', encoding=\"utf-8\") as f:\n",
    "    cube_yaml = yaml.safe_load(f)\n",
    "cube = Cube(df, cube_yaml, environment=\"TEST\", local=True)\n",
    "cube.prepare_data()\n",
    "cube.write_cube()\n",
    "cube.write_observations()\n",
    "cube.write_shape()\n",
    "cube.serialize(\"triples.ttl\")"
   ]
  }
 ],
 "metadata": {
  "kernelspec": {
   "display_name": "py-cube-mobi",
   "language": "python",
   "name": "python3"
  },
  "language_info": {
   "codemirror_mode": {
    "name": "ipython",
    "version": 3
   },
   "file_extension": ".py",
   "mimetype": "text/x-python",
   "name": "python",
   "nbconvert_exporter": "python",
   "pygments_lexer": "ipython3",
   "version": "3.12.4"
  }
 },
 "nbformat": 4,
 "nbformat_minor": 2
}
